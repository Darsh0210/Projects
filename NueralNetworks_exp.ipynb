{
  "nbformat": 4,
  "nbformat_minor": 0,
  "metadata": {
    "colab": {
      "name": "NueralNetworks_exp.ipynb",
      "provenance": [],
      "collapsed_sections": [],
      "authorship_tag": "ABX9TyMMpRZry3p/vwcTrLewRbCf",
      "include_colab_link": true
    },
    "kernelspec": {
      "name": "python3",
      "display_name": "Python 3"
    },
    "accelerator": "GPU"
  },
  "cells": [
    {
      "cell_type": "markdown",
      "metadata": {
        "id": "view-in-github",
        "colab_type": "text"
      },
      "source": [
        "<a href=\"https://colab.research.google.com/github/Darsh0210/Projects/blob/master/NueralNetworks_exp.ipynb\" target=\"_parent\"><img src=\"https://colab.research.google.com/assets/colab-badge.svg\" alt=\"Open In Colab\"/></a>"
      ]
    },
    {
      "cell_type": "code",
      "metadata": {
        "id": "V1FS6zZSGmZr"
      },
      "source": [
        "import tensorflow as tf\r\n",
        "from tensorflow import keras\r\n",
        "from tensorflow.keras import layers\r\n",
        "from tensorflow.keras.datasets import mnist"
      ],
      "execution_count": 7,
      "outputs": []
    },
    {
      "cell_type": "code",
      "metadata": {
        "id": "kCwT17uWMNk2"
      },
      "source": [
        "import pandas as pd"
      ],
      "execution_count": 21,
      "outputs": []
    },
    {
      "cell_type": "code",
      "metadata": {
        "id": "Nrk1mu6qHNMH"
      },
      "source": [
        "physical_devicess = tf.config.list_physical_devices(\"GPU\")\r\n",
        "tf.config.experimental.set_memory_growth(physical_devicess[0], True)"
      ],
      "execution_count": 5,
      "outputs": []
    },
    {
      "cell_type": "code",
      "metadata": {
        "id": "pj7BD0YpHZD7"
      },
      "source": [
        "(X_train,y_train),(X_test,y_test) = mnist.load_data()\r\n",
        "X_train = X_train.reshape(-1,28,28,1).astype(\"float32\")/255.0\r\n",
        "X_test  = X_test.reshape(-1,28,28,1).astype(\"float32\")/255.0"
      ],
      "execution_count": 33,
      "outputs": []
    },
    {
      "cell_type": "code",
      "metadata": {
        "colab": {
          "base_uri": "https://localhost:8080/"
        },
        "id": "boqddS54L8_M",
        "outputId": "fa61e595-17bd-4b40-c1ef-1e586b7fa158"
      },
      "source": [
        "y_train[0]"
      ],
      "execution_count": 19,
      "outputs": [
        {
          "output_type": "execute_result",
          "data": {
            "text/plain": [
              "5"
            ]
          },
          "metadata": {
            "tags": []
          },
          "execution_count": 19
        }
      ]
    },
    {
      "cell_type": "code",
      "metadata": {
        "id": "0iXnHOPfHwRk"
      },
      "source": [
        "# CNN -> BatchNormal -> Relu\r\n",
        "class CNNBlock(layers.Layer):\r\n",
        "  def __init__(self, output_channels, kernel_size = 3):\r\n",
        "    super(CNNBlock, self).__init__()\r\n",
        "    self.conv = layers.Conv2D(output_channels, kernel_size, padding='same')\r\n",
        "    self.bn  = layers.BatchNormalization()\r\n",
        "\r\n",
        "  def call(self, input_tensor, training = False):\r\n",
        "    x = self.conv(input_tensor)\r\n",
        "    x = self.bn(x, training = training)\r\n",
        "    x = tf.nn.relu(x)\r\n",
        "    return x"
      ],
      "execution_count": 14,
      "outputs": []
    },
    {
      "cell_type": "code",
      "metadata": {
        "id": "0MpNkdDHKHgh"
      },
      "source": [
        "model = keras.Sequential([\r\n",
        "                          CNNBlock(32),\r\n",
        "                          CNNBlock(64),\r\n",
        "                          CNNBlock(128),\r\n",
        "                          layers.Flatten(),\r\n",
        "                          layers.Dense(10)\r\n",
        "])"
      ],
      "execution_count": 16,
      "outputs": []
    },
    {
      "cell_type": "code",
      "metadata": {
        "id": "7bqx4WqrLJgy"
      },
      "source": [
        "model.compile(optimizer = tf.keras.optimizers.Adam(),\r\n",
        "              loss = tf.keras.losses.SparseCategoricalCrossentropy(from_logits = True),\r\n",
        "              metrics = ['accuracy'])"
      ],
      "execution_count": 17,
      "outputs": []
    },
    {
      "cell_type": "code",
      "metadata": {
        "colab": {
          "base_uri": "https://localhost:8080/"
        },
        "id": "W-EtOFB2Ln8V",
        "outputId": "f0c7b5f1-8b29-4552-d40a-06718dd55572"
      },
      "source": [
        "model.fit(X_train, y_train, batch_size = 64, epochs = 3)"
      ],
      "execution_count": 18,
      "outputs": [
        {
          "output_type": "stream",
          "text": [
            "Epoch 1/3\n",
            "938/938 [==============================] - 29s 24ms/step - loss: 1.3688 - accuracy: 0.8955\n",
            "Epoch 2/3\n",
            "938/938 [==============================] - 22s 24ms/step - loss: 0.1081 - accuracy: 0.9804\n",
            "Epoch 3/3\n",
            "938/938 [==============================] - 22s 24ms/step - loss: 0.0340 - accuracy: 0.9895\n"
          ],
          "name": "stdout"
        },
        {
          "output_type": "execute_result",
          "data": {
            "text/plain": [
              "<tensorflow.python.keras.callbacks.History at 0x7f4fa11cfa90>"
            ]
          },
          "metadata": {
            "tags": []
          },
          "execution_count": 18
        }
      ]
    },
    {
      "cell_type": "code",
      "metadata": {
        "colab": {
          "base_uri": "https://localhost:8080/"
        },
        "id": "-rg0RrwzLzw1",
        "outputId": "bce8fa50-03a1-4879-e812-e4aed13692c3"
      },
      "source": [
        "model.evaluate(X_test, y_test)"
      ],
      "execution_count": 20,
      "outputs": [
        {
          "output_type": "stream",
          "text": [
            "313/313 [==============================] - 2s 6ms/step - loss: 0.0517 - accuracy: 0.9839\n"
          ],
          "name": "stdout"
        },
        {
          "output_type": "execute_result",
          "data": {
            "text/plain": [
              "[0.051683858036994934, 0.9839000105857849]"
            ]
          },
          "metadata": {
            "tags": []
          },
          "execution_count": 20
        }
      ]
    },
    {
      "cell_type": "code",
      "metadata": {
        "colab": {
          "base_uri": "https://localhost:8080/"
        },
        "id": "GX7BZBkiMYeZ",
        "outputId": "6007e893-667b-45b2-c2a8-d66daa654e13"
      },
      "source": [
        "y_predicted = model.predict_classes(X_test)"
      ],
      "execution_count": 23,
      "outputs": [
        {
          "output_type": "stream",
          "text": [
            "/usr/local/lib/python3.6/dist-packages/tensorflow/python/keras/engine/sequential.py:450: UserWarning: `model.predict_classes()` is deprecated and will be removed after 2021-01-01. Please use instead:* `np.argmax(model.predict(x), axis=-1)`,   if your model does multi-class classification   (e.g. if it uses a `softmax` last-layer activation).* `(model.predict(x) > 0.5).astype(\"int32\")`,   if your model does binary classification   (e.g. if it uses a `sigmoid` last-layer activation).\n",
            "  warnings.warn('`model.predict_classes()` is deprecated and '\n"
          ],
          "name": "stderr"
        }
      ]
    },
    {
      "cell_type": "code",
      "metadata": {
        "colab": {
          "base_uri": "https://localhost:8080/",
          "height": 390
        },
        "id": "QpSOriZLMKFE",
        "outputId": "1c2c764d-dc62-48ce-a2c7-2454ddcca634"
      },
      "source": [
        "pd.crosstab(y_test, y_predicted,)"
      ],
      "execution_count": 24,
      "outputs": [
        {
          "output_type": "execute_result",
          "data": {
            "text/html": [
              "<div>\n",
              "<style scoped>\n",
              "    .dataframe tbody tr th:only-of-type {\n",
              "        vertical-align: middle;\n",
              "    }\n",
              "\n",
              "    .dataframe tbody tr th {\n",
              "        vertical-align: top;\n",
              "    }\n",
              "\n",
              "    .dataframe thead th {\n",
              "        text-align: right;\n",
              "    }\n",
              "</style>\n",
              "<table border=\"1\" class=\"dataframe\">\n",
              "  <thead>\n",
              "    <tr style=\"text-align: right;\">\n",
              "      <th>col_0</th>\n",
              "      <th>0</th>\n",
              "      <th>1</th>\n",
              "      <th>2</th>\n",
              "      <th>3</th>\n",
              "      <th>4</th>\n",
              "      <th>5</th>\n",
              "      <th>6</th>\n",
              "      <th>7</th>\n",
              "      <th>8</th>\n",
              "      <th>9</th>\n",
              "    </tr>\n",
              "    <tr>\n",
              "      <th>row_0</th>\n",
              "      <th></th>\n",
              "      <th></th>\n",
              "      <th></th>\n",
              "      <th></th>\n",
              "      <th></th>\n",
              "      <th></th>\n",
              "      <th></th>\n",
              "      <th></th>\n",
              "      <th></th>\n",
              "      <th></th>\n",
              "    </tr>\n",
              "  </thead>\n",
              "  <tbody>\n",
              "    <tr>\n",
              "      <th>0</th>\n",
              "      <td>973</td>\n",
              "      <td>0</td>\n",
              "      <td>3</td>\n",
              "      <td>1</td>\n",
              "      <td>0</td>\n",
              "      <td>1</td>\n",
              "      <td>1</td>\n",
              "      <td>0</td>\n",
              "      <td>1</td>\n",
              "      <td>0</td>\n",
              "    </tr>\n",
              "    <tr>\n",
              "      <th>1</th>\n",
              "      <td>0</td>\n",
              "      <td>1104</td>\n",
              "      <td>12</td>\n",
              "      <td>1</td>\n",
              "      <td>2</td>\n",
              "      <td>1</td>\n",
              "      <td>1</td>\n",
              "      <td>0</td>\n",
              "      <td>14</td>\n",
              "      <td>0</td>\n",
              "    </tr>\n",
              "    <tr>\n",
              "      <th>2</th>\n",
              "      <td>1</td>\n",
              "      <td>0</td>\n",
              "      <td>1026</td>\n",
              "      <td>0</td>\n",
              "      <td>1</td>\n",
              "      <td>0</td>\n",
              "      <td>1</td>\n",
              "      <td>1</td>\n",
              "      <td>1</td>\n",
              "      <td>1</td>\n",
              "    </tr>\n",
              "    <tr>\n",
              "      <th>3</th>\n",
              "      <td>0</td>\n",
              "      <td>0</td>\n",
              "      <td>3</td>\n",
              "      <td>1000</td>\n",
              "      <td>0</td>\n",
              "      <td>4</td>\n",
              "      <td>0</td>\n",
              "      <td>1</td>\n",
              "      <td>2</td>\n",
              "      <td>0</td>\n",
              "    </tr>\n",
              "    <tr>\n",
              "      <th>4</th>\n",
              "      <td>0</td>\n",
              "      <td>0</td>\n",
              "      <td>1</td>\n",
              "      <td>0</td>\n",
              "      <td>972</td>\n",
              "      <td>0</td>\n",
              "      <td>1</td>\n",
              "      <td>0</td>\n",
              "      <td>2</td>\n",
              "      <td>6</td>\n",
              "    </tr>\n",
              "    <tr>\n",
              "      <th>5</th>\n",
              "      <td>1</td>\n",
              "      <td>0</td>\n",
              "      <td>1</td>\n",
              "      <td>5</td>\n",
              "      <td>0</td>\n",
              "      <td>882</td>\n",
              "      <td>2</td>\n",
              "      <td>0</td>\n",
              "      <td>1</td>\n",
              "      <td>0</td>\n",
              "    </tr>\n",
              "    <tr>\n",
              "      <th>6</th>\n",
              "      <td>7</td>\n",
              "      <td>1</td>\n",
              "      <td>1</td>\n",
              "      <td>1</td>\n",
              "      <td>1</td>\n",
              "      <td>8</td>\n",
              "      <td>937</td>\n",
              "      <td>0</td>\n",
              "      <td>2</td>\n",
              "      <td>0</td>\n",
              "    </tr>\n",
              "    <tr>\n",
              "      <th>7</th>\n",
              "      <td>0</td>\n",
              "      <td>1</td>\n",
              "      <td>18</td>\n",
              "      <td>1</td>\n",
              "      <td>1</td>\n",
              "      <td>0</td>\n",
              "      <td>0</td>\n",
              "      <td>994</td>\n",
              "      <td>3</td>\n",
              "      <td>10</td>\n",
              "    </tr>\n",
              "    <tr>\n",
              "      <th>8</th>\n",
              "      <td>4</td>\n",
              "      <td>0</td>\n",
              "      <td>3</td>\n",
              "      <td>0</td>\n",
              "      <td>1</td>\n",
              "      <td>3</td>\n",
              "      <td>0</td>\n",
              "      <td>1</td>\n",
              "      <td>961</td>\n",
              "      <td>1</td>\n",
              "    </tr>\n",
              "    <tr>\n",
              "      <th>9</th>\n",
              "      <td>0</td>\n",
              "      <td>0</td>\n",
              "      <td>1</td>\n",
              "      <td>0</td>\n",
              "      <td>4</td>\n",
              "      <td>9</td>\n",
              "      <td>0</td>\n",
              "      <td>1</td>\n",
              "      <td>4</td>\n",
              "      <td>990</td>\n",
              "    </tr>\n",
              "  </tbody>\n",
              "</table>\n",
              "</div>"
            ],
            "text/plain": [
              "col_0    0     1     2     3    4    5    6    7    8    9\n",
              "row_0                                                     \n",
              "0      973     0     3     1    0    1    1    0    1    0\n",
              "1        0  1104    12     1    2    1    1    0   14    0\n",
              "2        1     0  1026     0    1    0    1    1    1    1\n",
              "3        0     0     3  1000    0    4    0    1    2    0\n",
              "4        0     0     1     0  972    0    1    0    2    6\n",
              "5        1     0     1     5    0  882    2    0    1    0\n",
              "6        7     1     1     1    1    8  937    0    2    0\n",
              "7        0     1    18     1    1    0    0  994    3   10\n",
              "8        4     0     3     0    1    3    0    1  961    1\n",
              "9        0     0     1     0    4    9    0    1    4  990"
            ]
          },
          "metadata": {
            "tags": []
          },
          "execution_count": 24
        }
      ]
    },
    {
      "cell_type": "code",
      "metadata": {
        "id": "CdsIkvlPMgwl"
      },
      "source": [
        ""
      ],
      "execution_count": null,
      "outputs": []
    },
    {
      "cell_type": "code",
      "metadata": {
        "id": "n8zlb7k3NcPC"
      },
      "source": [
        ""
      ],
      "execution_count": null,
      "outputs": []
    },
    {
      "cell_type": "markdown",
      "metadata": {
        "id": "WCXc4ARmNfku"
      },
      "source": [
        "ResNetwork Implementation"
      ]
    },
    {
      "cell_type": "code",
      "metadata": {
        "id": "kX0kVFTaTwc4"
      },
      "source": [
        "class CNNBlock(layers.Layer):\r\n",
        "    def __init__(self, out_channels, kernel_size=3):\r\n",
        "        super(CNNBlock, self).__init__()\r\n",
        "        self.conv = layers.Conv2D(out_channels, kernel_size, padding=\"same\")\r\n",
        "        self.bn = layers.BatchNormalization()\r\n",
        "\r\n",
        "    def call(self, input_tensor, training=False):\r\n",
        "        x = self.conv(input_tensor)\r\n",
        "        x = self.bn(x, training=training)\r\n",
        "        x = tf.nn.relu(x)\r\n",
        "        return x"
      ],
      "execution_count": 56,
      "outputs": []
    },
    {
      "cell_type": "code",
      "metadata": {
        "id": "wG4H_nWONcyz"
      },
      "source": [
        "class ResBlock(layers.Layer):\r\n",
        "    def __init__(self, channels):\r\n",
        "        super(ResBlock, self).__init__()\r\n",
        "        self.channels = channels\r\n",
        "        self.cnn1 = CNNBlock(channels[0], 3)\r\n",
        "        self.cnn2 = CNNBlock(channels[1], 3)\r\n",
        "        self.cnn3 = CNNBlock(channels[2], 3)\r\n",
        "        self.pooling = layers.MaxPooling2D()\r\n",
        "        self.identity_mapping = layers.Conv2D(channels[1], 3, padding=\"same\")\r\n",
        "\r\n",
        "    def call(self, input_tensor, training=False):\r\n",
        "        x = self.cnn1(input_tensor, training=training)\r\n",
        "        x = self.cnn2(x, training=training)\r\n",
        "        x = self.cnn3(x + self.identity_mapping(input_tensor), training=training,)\r\n",
        "        x = self.pooling(x)\r\n",
        "        return x\r\n"
      ],
      "execution_count": 57,
      "outputs": []
    },
    {
      "cell_type": "code",
      "metadata": {
        "id": "gnGhxFKXSdc3"
      },
      "source": [
        "class ResNet_Like(keras.Model):\r\n",
        "    def __init__(self, num_classes=10):\r\n",
        "        super(ResNet_Like, self).__init__()\r\n",
        "        self.block1 = ResBlock([32, 32, 64])\r\n",
        "        self.block2 = ResBlock([128, 128, 256])\r\n",
        "        self.block3 = ResBlock([128, 256, 512])\r\n",
        "        self.pool = layers.GlobalAveragePooling2D()\r\n",
        "        self.classifier = layers.Dense(num_classes)\r\n",
        "\r\n",
        "    def call(self, input_tensor, training=False):\r\n",
        "        x = self.block1(input_tensor, training=training)\r\n",
        "        x = self.block2(x, training=training)\r\n",
        "        x = self.block3(x, training=training)\r\n",
        "        x = self.pool(x, training=training)\r\n",
        "        x = self.classifier(x)\r\n",
        "        return x"
      ],
      "execution_count": 58,
      "outputs": []
    },
    {
      "cell_type": "code",
      "metadata": {
        "id": "V9J18RgJUztW"
      },
      "source": [
        "model = ResNet_Like(num_classes=10)"
      ],
      "execution_count": 59,
      "outputs": []
    },
    {
      "cell_type": "code",
      "metadata": {
        "id": "sSUdbXM_TunL"
      },
      "source": [
        "model.compile(optimizer = tf.keras.optimizers.Adam(),\r\n",
        "              loss = tf.keras.losses.SparseCategoricalCrossentropy(from_logits = True),\r\n",
        "              metrics = ['accuracy'])"
      ],
      "execution_count": 60,
      "outputs": []
    },
    {
      "cell_type": "code",
      "metadata": {
        "colab": {
          "base_uri": "https://localhost:8080/"
        },
        "id": "E5pbxL1MVKpd",
        "outputId": "72f7b6c9-7ff3-4829-ee53-89e335fef364"
      },
      "source": [
        "model.fit(X_train, y_train, batch_size = 64, epochs = 3)"
      ],
      "execution_count": 61,
      "outputs": [
        {
          "output_type": "stream",
          "text": [
            "Epoch 1/3\n",
            "938/938 [==============================] - 57s 59ms/step - loss: 0.2363 - accuracy: 0.9298\n",
            "Epoch 2/3\n",
            "938/938 [==============================] - 55s 58ms/step - loss: 0.0408 - accuracy: 0.9865\n",
            "Epoch 3/3\n",
            "938/938 [==============================] - 55s 58ms/step - loss: 0.0285 - accuracy: 0.9916\n"
          ],
          "name": "stdout"
        },
        {
          "output_type": "execute_result",
          "data": {
            "text/plain": [
              "<tensorflow.python.keras.callbacks.History at 0x7f4f9b675518>"
            ]
          },
          "metadata": {
            "tags": []
          },
          "execution_count": 61
        }
      ]
    },
    {
      "cell_type": "code",
      "metadata": {
        "id": "2biMgW97UwPP"
      },
      "source": [
        "# model.summary()"
      ],
      "execution_count": 54,
      "outputs": []
    },
    {
      "cell_type": "code",
      "metadata": {
        "colab": {
          "base_uri": "https://localhost:8080/"
        },
        "id": "FI7LGN5_U83j",
        "outputId": "ffc8327f-0e34-4311-d3cf-2a2c09606eac"
      },
      "source": [
        ""
      ],
      "execution_count": 55,
      "outputs": [
        {
          "output_type": "stream",
          "text": [
            "938/938 - 36s - loss: 0.1080 - accuracy: 0.9667\n",
            "157/157 - 2s - loss: 0.0622 - accuracy: 0.9809\n"
          ],
          "name": "stdout"
        },
        {
          "output_type": "execute_result",
          "data": {
            "text/plain": [
              "[0.06222720816731453, 0.98089998960495]"
            ]
          },
          "metadata": {
            "tags": []
          },
          "execution_count": 55
        }
      ]
    },
    {
      "cell_type": "code",
      "metadata": {
        "id": "ZLFZis9dW6Q8"
      },
      "source": [
        ""
      ],
      "execution_count": null,
      "outputs": []
    }
  ]
}